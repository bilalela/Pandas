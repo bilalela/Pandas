{
  "metadata": {
    "kernelspec": {
      "language": "python",
      "display_name": "Python 3",
      "name": "python3"
    },
    "language_info": {
      "name": "python",
      "version": "3.10.12",
      "mimetype": "text/x-python",
      "codemirror_mode": {
        "name": "ipython",
        "version": 3
      },
      "pygments_lexer": "ipython3",
      "nbconvert_exporter": "python",
      "file_extension": ".py"
    },
    "kaggle": {
      "accelerator": "none",
      "dataSources": [
        {
          "sourceId": 10645457,
          "sourceType": "datasetVersion",
          "datasetId": 6591616
        }
      ],
      "dockerImageVersionId": 30886,
      "isInternetEnabled": false,
      "language": "python",
      "sourceType": "notebook",
      "isGpuEnabled": false
    },
    "colab": {
      "name": "Pandas_2",
      "provenance": [],
      "toc_visible": true,
      "include_colab_link": true
    }
  },
  "nbformat_minor": 0,
  "nbformat": 4,
  "cells": [
    {
      "cell_type": "markdown",
      "metadata": {
        "id": "view-in-github",
        "colab_type": "text"
      },
      "source": [
        "<a href=\"https://colab.research.google.com/github/bilalela/Pandas/blob/main/Pandas_2.ipynb\" target=\"_parent\"><img src=\"https://colab.research.google.com/assets/colab-badge.svg\" alt=\"Open In Colab\"/></a>"
      ]
    },
    {
      "source": [
        "# IMPORTANT: RUN THIS CELL IN ORDER TO IMPORT YOUR KAGGLE DATA SOURCES,\n",
        "# THEN FEEL FREE TO DELETE THIS CELL.\n",
        "# NOTE: THIS NOTEBOOK ENVIRONMENT DIFFERS FROM KAGGLE'S PYTHON\n",
        "# ENVIRONMENT SO THERE MAY BE MISSING LIBRARIES USED BY YOUR\n",
        "# NOTEBOOK.\n",
        "import kagglehub\n",
        "wlwwwlw_elite_sports_cars_in_data_path = kagglehub.dataset_download('wlwwwlw/elite-sports-cars-in-data')\n",
        "\n",
        "print('Data source import complete.')\n"
      ],
      "metadata": {
        "id": "_1aI4P0t3_JZ"
      },
      "cell_type": "code",
      "outputs": [],
      "execution_count": null
    },
    {
      "cell_type": "code",
      "source": [
        "import numpy as np"
      ],
      "metadata": {
        "_uuid": "8f2839f25d086af736a60e9eeb907d3b93b6e0e5",
        "_cell_guid": "b1076dfc-b9ad-4769-8c92-a6c4dae69d19",
        "trusted": true,
        "execution": {
          "iopub.status.busy": "2025-02-08T22:35:44.942626Z",
          "iopub.execute_input": "2025-02-08T22:35:44.942991Z",
          "iopub.status.idle": "2025-02-08T22:35:44.947381Z",
          "shell.execute_reply.started": "2025-02-08T22:35:44.942961Z",
          "shell.execute_reply": "2025-02-08T22:35:44.946351Z"
        },
        "id": "NSYrSCsQ3_JZ"
      },
      "outputs": [],
      "execution_count": null
    },
    {
      "cell_type": "code",
      "source": [
        "import pandas as pd"
      ],
      "metadata": {
        "trusted": true,
        "execution": {
          "iopub.status.busy": "2025-02-08T22:35:42.607869Z",
          "iopub.execute_input": "2025-02-08T22:35:42.608243Z",
          "iopub.status.idle": "2025-02-08T22:35:42.612355Z",
          "shell.execute_reply.started": "2025-02-08T22:35:42.608207Z",
          "shell.execute_reply": "2025-02-08T22:35:42.611251Z"
        },
        "id": "f3XtQKu33_Ja"
      },
      "outputs": [],
      "execution_count": null
    },
    {
      "cell_type": "markdown",
      "source": [
        "# DataFrame Sorgu İşlemleri"
      ],
      "metadata": {
        "id": "qIb-Js1x3_Ja"
      }
    },
    {
      "cell_type": "code",
      "source": [
        "df = pd.read_csv(\"/kaggle/input/elite-sports-cars-in-data/Elite Sports Cars in Data.csv\")\n",
        "df"
      ],
      "metadata": {
        "trusted": true,
        "execution": {
          "iopub.status.busy": "2025-02-08T22:39:04.123916Z",
          "iopub.execute_input": "2025-02-08T22:39:04.124252Z",
          "iopub.status.idle": "2025-02-08T22:39:04.170578Z",
          "shell.execute_reply.started": "2025-02-08T22:39:04.124223Z",
          "shell.execute_reply": "2025-02-08T22:39:04.169571Z"
        },
        "id": "gLKIx1OZ3_Ja"
      },
      "outputs": [],
      "execution_count": null
    },
    {
      "cell_type": "code",
      "source": [
        "df.info()"
      ],
      "metadata": {
        "trusted": true,
        "execution": {
          "iopub.status.busy": "2025-02-08T22:35:50.476085Z",
          "iopub.execute_input": "2025-02-08T22:35:50.476434Z",
          "iopub.status.idle": "2025-02-08T22:35:50.491874Z",
          "shell.execute_reply.started": "2025-02-08T22:35:50.476409Z",
          "shell.execute_reply": "2025-02-08T22:35:50.490751Z"
        },
        "id": "MRD8JzGq3_Jb"
      },
      "outputs": [],
      "execution_count": null
    },
    {
      "cell_type": "code",
      "source": [
        "df[\"Engine_Size\"]"
      ],
      "metadata": {
        "trusted": true,
        "execution": {
          "iopub.status.busy": "2025-02-08T22:35:52.760797Z",
          "iopub.execute_input": "2025-02-08T22:35:52.761136Z",
          "iopub.status.idle": "2025-02-08T22:35:52.769053Z",
          "shell.execute_reply.started": "2025-02-08T22:35:52.761108Z",
          "shell.execute_reply": "2025-02-08T22:35:52.76793Z"
        },
        "id": "kctf5gw03_Jb"
      },
      "outputs": [],
      "execution_count": null
    },
    {
      "cell_type": "code",
      "source": [
        "df[df[\"Engine_Size\"]> 7]  # iki tane [] parentez koyunca bu bir DataFrame olmuş olur , sadece bir parantez koyarsak bu bir Series olmuş olur"
      ],
      "metadata": {
        "trusted": true,
        "execution": {
          "iopub.status.busy": "2025-02-08T22:50:49.45912Z",
          "iopub.execute_input": "2025-02-08T22:50:49.459558Z",
          "iopub.status.idle": "2025-02-08T22:50:49.484795Z",
          "shell.execute_reply.started": "2025-02-08T22:50:49.459528Z",
          "shell.execute_reply": "2025-02-08T22:50:49.483612Z"
        },
        "id": "aMffnQDV3_Jb"
      },
      "outputs": [],
      "execution_count": null
    },
    {
      "cell_type": "code",
      "source": [
        "df[(df[\"Engine_Size\"]>7) & (df[\"Torque\"]>1000)]  # hem (Engine_Size) 7 den büyük değerleri  hem de (Torque) büyük değerlerini getir"
      ],
      "metadata": {
        "trusted": true,
        "execution": {
          "iopub.status.busy": "2025-02-08T22:50:53.031304Z",
          "iopub.execute_input": "2025-02-08T22:50:53.031639Z",
          "iopub.status.idle": "2025-02-08T22:50:53.057794Z",
          "shell.execute_reply.started": "2025-02-08T22:50:53.031613Z",
          "shell.execute_reply": "2025-02-08T22:50:53.056649Z"
        },
        "id": "AIfeNspO3_Jb"
      },
      "outputs": [],
      "execution_count": null
    },
    {
      "cell_type": "code",
      "source": [
        "# Number_of_Owners kısmını index olarak ayarlanır\n",
        "df.set_index(\"Number_of_Owners\", drop =True)"
      ],
      "metadata": {
        "trusted": true,
        "execution": {
          "iopub.status.busy": "2025-02-08T22:39:07.320534Z",
          "iopub.execute_input": "2025-02-08T22:39:07.320856Z",
          "iopub.status.idle": "2025-02-08T22:39:07.351547Z",
          "shell.execute_reply.started": "2025-02-08T22:39:07.320831Z",
          "shell.execute_reply": "2025-02-08T22:39:07.35046Z"
        },
        "id": "AAvmJ9TN3_Jb"
      },
      "outputs": [],
      "execution_count": null
    },
    {
      "cell_type": "code",
      "source": [
        "df.head(3)"
      ],
      "metadata": {
        "trusted": true,
        "execution": {
          "iopub.status.busy": "2025-02-08T23:15:41.079888Z",
          "iopub.execute_input": "2025-02-08T23:15:41.080367Z",
          "iopub.status.idle": "2025-02-08T23:15:41.104512Z",
          "shell.execute_reply.started": "2025-02-08T23:15:41.080327Z",
          "shell.execute_reply": "2025-02-08T23:15:41.103382Z"
        },
        "id": "9XQiezsX3_Jc"
      },
      "outputs": [],
      "execution_count": null
    },
    {
      "cell_type": "code",
      "source": [
        "df [\"Hard_Torqu\"] = df[\"Horsepower\"] + df[\"Torque\"] # var olan sütunlardan yeni bir sütun eklmek"
      ],
      "metadata": {
        "trusted": true,
        "execution": {
          "iopub.status.busy": "2025-02-08T23:19:54.696544Z",
          "iopub.execute_input": "2025-02-08T23:19:54.696872Z",
          "iopub.status.idle": "2025-02-08T23:19:54.701771Z",
          "shell.execute_reply.started": "2025-02-08T23:19:54.696848Z",
          "shell.execute_reply": "2025-02-08T23:19:54.700742Z"
        },
        "id": "9Xt1KEwb3_Jc"
      },
      "outputs": [],
      "execution_count": null
    },
    {
      "cell_type": "code",
      "source": [
        "df.head(3)"
      ],
      "metadata": {
        "trusted": true,
        "execution": {
          "iopub.status.busy": "2025-02-08T23:20:06.252962Z",
          "iopub.execute_input": "2025-02-08T23:20:06.253311Z",
          "iopub.status.idle": "2025-02-08T23:20:06.272917Z",
          "shell.execute_reply.started": "2025-02-08T23:20:06.253284Z",
          "shell.execute_reply": "2025-02-08T23:20:06.271785Z"
        },
        "id": "9uHb4hWM3_Jc"
      },
      "outputs": [],
      "execution_count": null
    }
  ]
}